{
 "cells": [
  {
   "cell_type": "code",
   "execution_count": null,
   "metadata": {},
   "outputs": [],
   "source": []
  },
  {
   "cell_type": "code",
   "execution_count": 66,
   "metadata": {},
   "outputs": [
    {
     "name": "stdout",
     "output_type": "stream",
     "text": [
      "a 1 * r 4\n",
      "d 2 * r 4\n",
      "a 3 * r 4\n"
     ]
    }
   ],
   "source": [
    "string = 'radar'\n",
    "for i in range (0,len(string),1):\n",
    "   # print(string[i],i)\n",
    "   for j in range (len(string)-1,0,-1):\n",
    "      if string[i]==string[j]:\n",
    "         # print(string[j],j)\n",
    "         pass\n",
    "      else:\n",
    "         print(string[i],i,'*',string[j],j)"
   ]
  }
 ],
 "metadata": {
  "language_info": {
   "name": "python"
  },
  "orig_nbformat": 4
 },
 "nbformat": 4,
 "nbformat_minor": 2
}
