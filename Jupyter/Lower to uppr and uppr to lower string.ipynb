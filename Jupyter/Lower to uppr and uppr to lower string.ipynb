{
 "cells": [
  {
   "cell_type": "code",
   "execution_count": 24,
   "metadata": {},
   "outputs": [
    {
     "name": "stdout",
     "output_type": "stream",
     "text": [
      "yes upper\n",
      "yes upper\n",
      "yes upper\n",
      "yes upper\n",
      "yes upper\n",
      "yes upper\n",
      "yes upper\n",
      "yes upper\n",
      "yes upper\n",
      "yes upper\n",
      "yes upper\n",
      "yes upper\n",
      "yes upper\n",
      "yes upper\n",
      "yes upper\n",
      "yes upper\n",
      "yes upper\n",
      "yes upper\n"
     ]
    }
   ],
   "source": [
    "string = \"Www.HackerRank.Com\"\n",
    "\n",
    "for i in range(0, len(string)):\n",
    "   string[i]\n",
    "   if string[i].isupper:\n",
    "      print('yes upper')\n",
    "   # elif string[i].islower:\n",
    "   #    # pass\n",
    "   #    print('yes lower')\n",
    "   else:\n",
    "      print(\"else\")"
   ]
  },
  {
   "cell_type": "code",
   "execution_count": null,
   "metadata": {},
   "outputs": [],
   "source": []
  }
 ],
 "metadata": {
  "kernelspec": {
   "display_name": "Python 3",
   "language": "python",
   "name": "python3"
  },
  "language_info": {
   "codemirror_mode": {
    "name": "ipython",
    "version": 3
   },
   "file_extension": ".py",
   "mimetype": "text/x-python",
   "name": "python",
   "nbconvert_exporter": "python",
   "pygments_lexer": "ipython3",
   "version": "3.11.0"
  },
  "orig_nbformat": 4,
  "vscode": {
   "interpreter": {
    "hash": "f6905a79f1842481bf6f0a820c78551ab04b4092af84a216af59883425cfbf1b"
   }
  }
 },
 "nbformat": 4,
 "nbformat_minor": 2
}
