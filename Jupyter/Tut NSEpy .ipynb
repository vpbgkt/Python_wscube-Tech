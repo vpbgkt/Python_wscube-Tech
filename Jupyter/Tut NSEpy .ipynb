{
 "cells": [
  {
   "cell_type": "code",
   "execution_count": 2,
   "metadata": {},
   "outputs": [],
   "source": [
    "from nsepy import get_history\n",
    "from datetime import date\n",
    "import pandas as pd\n",
    "\n",
    "start = date(2023, 3, 1)\n",
    "end = date(2023, 3, 7)\n",
    "\n",
    "data = get_history(symbol='hdfcbank', start=start, end=end)\n",
    "print(data)"
   ]
  }
 ],
 "metadata": {
  "kernelspec": {
   "display_name": "Python 3",
   "language": "python",
   "name": "python3"
  },
  "language_info": {
   "codemirror_mode": {
    "name": "ipython",
    "version": 3
   },
   "file_extension": ".py",
   "mimetype": "text/x-python",
   "name": "python",
   "nbconvert_exporter": "python",
   "pygments_lexer": "ipython3",
   "version": "3.11.0"
  },
  "orig_nbformat": 4,
  "vscode": {
   "interpreter": {
    "hash": "f6905a79f1842481bf6f0a820c78551ab04b4092af84a216af59883425cfbf1b"
   }
  }
 },
 "nbformat": 4,
 "nbformat_minor": 2
}
